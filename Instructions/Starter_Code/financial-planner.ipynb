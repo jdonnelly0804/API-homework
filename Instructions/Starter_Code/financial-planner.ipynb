{
 "cells": [
  {
   "cell_type": "markdown",
   "metadata": {},
   "source": [
    "# Unit 5 - Financial Planning"
   ]
  },
  {
   "cell_type": "code",
   "execution_count": 45,
   "metadata": {},
   "outputs": [],
   "source": [
    "# Initial imports\n",
    "import os\n",
    "import requests\n",
    "import pandas as pd\n",
    "from dotenv import load_dotenv\n",
    "import alpaca_trade_api as tradeapi\n",
    "from MCForecastTools import MCSimulation\n",
    "\n",
    "%matplotlib inline"
   ]
  },
  {
   "cell_type": "code",
   "execution_count": 46,
   "metadata": {},
   "outputs": [
    {
     "data": {
      "text/plain": [
       "True"
      ]
     },
     "execution_count": 46,
     "metadata": {},
     "output_type": "execute_result"
    }
   ],
   "source": [
    "# Load .env enviroment variables\n",
    "load_dotenv()"
   ]
  },
  {
   "cell_type": "markdown",
   "metadata": {},
   "source": [
    "## Part 1 - Personal Finance Planner"
   ]
  },
  {
   "cell_type": "markdown",
   "metadata": {},
   "source": [
    "### Collect Crypto Prices Using the `requests` Library"
   ]
  },
  {
   "cell_type": "code",
   "execution_count": 47,
   "metadata": {},
   "outputs": [],
   "source": [
    "# Set current amount of crypto assets\n",
    "my_btc = 1.2\n",
    "my_eth = 5.3 "
   ]
  },
  {
   "cell_type": "code",
   "execution_count": 48,
   "metadata": {},
   "outputs": [],
   "source": [
    "# Crypto API URLs\n",
    "btc_url = \"https://api.alternative.me/v2/ticker/Bitcoin/?convert=USD\"\n",
    "eth_url = \"https://api.alternative.me/v2/ticker/Ethereum/?convert=USD\""
   ]
  },
  {
   "cell_type": "code",
   "execution_count": 49,
   "metadata": {},
   "outputs": [
    {
     "name": "stdout",
     "output_type": "stream",
     "text": [
      "The current value of your 1.2 BTC is $22130.36\n",
      "The current value of your 5.3 ETH is $6489.53\n"
     ]
    }
   ],
   "source": [
    "# Fetch current BTC price\n",
    "btc_data = requests.get(btc_url).json()\n",
    "btc_price = btc_data['data']['1']['quotes']['USD']['price']\n",
    "# Fetch current ETH price\n",
    "eth_data = requests.get(eth_url).json()\n",
    "eth_price = eth_data['data']['1027']['quotes']['USD']['price']\n",
    "# Compute current value of my crpto\n",
    "my_btc_value = my_btc * btc_price\n",
    "my_eth_value = my_eth * eth_price\n",
    "# Print current crypto wallet balance\n",
    "print(f\"The current value of your {my_btc} BTC is ${my_btc_value:0.2f}\")\n",
    "print(f\"The current value of your {my_eth} ETH is ${my_eth_value:0.2f}\")"
   ]
  },
  {
   "cell_type": "markdown",
   "metadata": {},
   "source": [
    "### Collect Investments Data Using Alpaca: `SPY` (stocks) and `AGG` (bonds)"
   ]
  },
  {
   "cell_type": "code",
   "execution_count": 50,
   "metadata": {},
   "outputs": [],
   "source": [
    "# Set current amount of shares\n",
    "my_agg = 200\n",
    "my_spy = 50"
   ]
  },
  {
   "cell_type": "code",
   "execution_count": 51,
   "metadata": {},
   "outputs": [],
   "source": [
    "# Set Alpaca API key and secret\n",
    "alpaca_api_key = os.getenv(\"ALPACA_API_KEY\")\n",
    "alpaca_secret_key = os.getenv(\"ALPACA_SECRET_KEY\")\n",
    "# Create the Alpaca API object\n",
    "api = tradeapi.REST(\n",
    "    alpaca_api_key,\n",
    "    alpaca_secret_key,\n",
    "    api_version= \"v2\"\n",
    ")"
   ]
  },
  {
   "cell_type": "code",
   "execution_count": 52,
   "metadata": {},
   "outputs": [
    {
     "data": {
      "text/html": [
       "<div>\n",
       "<style scoped>\n",
       "    .dataframe tbody tr th:only-of-type {\n",
       "        vertical-align: middle;\n",
       "    }\n",
       "\n",
       "    .dataframe tbody tr th {\n",
       "        vertical-align: top;\n",
       "    }\n",
       "\n",
       "    .dataframe thead tr th {\n",
       "        text-align: left;\n",
       "    }\n",
       "\n",
       "    .dataframe thead tr:last-of-type th {\n",
       "        text-align: right;\n",
       "    }\n",
       "</style>\n",
       "<table border=\"1\" class=\"dataframe\">\n",
       "  <thead>\n",
       "    <tr>\n",
       "      <th></th>\n",
       "      <th colspan=\"7\" halign=\"left\">AGG</th>\n",
       "      <th colspan=\"7\" halign=\"left\">SPY</th>\n",
       "    </tr>\n",
       "    <tr>\n",
       "      <th></th>\n",
       "      <th>open</th>\n",
       "      <th>high</th>\n",
       "      <th>low</th>\n",
       "      <th>close</th>\n",
       "      <th>volume</th>\n",
       "      <th>trade_count</th>\n",
       "      <th>vwap</th>\n",
       "      <th>open</th>\n",
       "      <th>high</th>\n",
       "      <th>low</th>\n",
       "      <th>close</th>\n",
       "      <th>volume</th>\n",
       "      <th>trade_count</th>\n",
       "      <th>vwap</th>\n",
       "    </tr>\n",
       "    <tr>\n",
       "      <th>timestamp</th>\n",
       "      <th></th>\n",
       "      <th></th>\n",
       "      <th></th>\n",
       "      <th></th>\n",
       "      <th></th>\n",
       "      <th></th>\n",
       "      <th></th>\n",
       "      <th></th>\n",
       "      <th></th>\n",
       "      <th></th>\n",
       "      <th></th>\n",
       "      <th></th>\n",
       "      <th></th>\n",
       "      <th></th>\n",
       "    </tr>\n",
       "  </thead>\n",
       "  <tbody>\n",
       "    <tr>\n",
       "      <th>2022-10-11 04:00:00+00:00</th>\n",
       "      <td>95.63</td>\n",
       "      <td>95.83</td>\n",
       "      <td>95.27</td>\n",
       "      <td>95.4</td>\n",
       "      <td>8769515</td>\n",
       "      <td>24296</td>\n",
       "      <td>95.625885</td>\n",
       "      <td>358.3</td>\n",
       "      <td>363.03</td>\n",
       "      <td>355.71</td>\n",
       "      <td>357.74</td>\n",
       "      <td>91448816</td>\n",
       "      <td>688092</td>\n",
       "      <td>358.717517</td>\n",
       "    </tr>\n",
       "  </tbody>\n",
       "</table>\n",
       "</div>"
      ],
      "text/plain": [
       "                             AGG                                           \\\n",
       "                            open   high    low close   volume trade_count   \n",
       "timestamp                                                                   \n",
       "2022-10-11 04:00:00+00:00  95.63  95.83  95.27  95.4  8769515       24296   \n",
       "\n",
       "                                        SPY                                    \\\n",
       "                                vwap   open    high     low   close    volume   \n",
       "timestamp                                                                       \n",
       "2022-10-11 04:00:00+00:00  95.625885  358.3  363.03  355.71  357.74  91448816   \n",
       "\n",
       "                                                   \n",
       "                          trade_count        vwap  \n",
       "timestamp                                          \n",
       "2022-10-11 04:00:00+00:00      688092  358.717517  "
      ]
     },
     "execution_count": 52,
     "metadata": {},
     "output_type": "execute_result"
    }
   ],
   "source": [
    "# Format current date as ISO format\n",
    "today = pd.Timestamp(\"2022-10-11\", tz = \"America/New_York\").isoformat()\n",
    "\n",
    "# Set the tickers\n",
    "tickers = [\"AGG\", \"SPY\"]\n",
    "\n",
    "# Set timeframe to \"1Day\" for Alpaca API\n",
    "timeframe = \"1Day\"\n",
    "\n",
    "# Get current closing prices for SPY and AGG\n",
    "df_portfolio = api.get_bars(\n",
    "    tickers,\n",
    "    timeframe,\n",
    "    start = today,\n",
    "    end = today\n",
    ").df\n",
    "\n",
    "# Reorganize the DataFrame\n",
    "# Separate ticker data\n",
    "AGG = df_portfolio[df_portfolio['symbol']== \"AGG\"].drop('symbol', axis = 1)\n",
    "SPY = df_portfolio[df_portfolio['symbol']== \"SPY\"].drop('symbol', axis = 1)\n",
    "\n",
    "# Concatenate the ticker DataFrames\n",
    "df_portfolio = pd.concat([AGG,SPY], axis = 1, keys = ['AGG','SPY'])\n",
    "\n",
    "# Preview DataFrame\n",
    "df_portfolio"
   ]
  },
  {
   "cell_type": "code",
   "execution_count": 53,
   "metadata": {},
   "outputs": [
    {
     "name": "stdout",
     "output_type": "stream",
     "text": [
      "Current AGG closing price: $95.4\n",
      "Current SPY closing price: $357.74\n"
     ]
    }
   ],
   "source": [
    "# Pick AGG and SPY close prices\n",
    "agg_close_price = float(df_portfolio['AGG']['close'])\n",
    "spy_close_price = float(df_portfolio['SPY']['close'])\n",
    "\n",
    "# Print AGG and SPY close prices\n",
    "print(f\"Current AGG closing price: ${agg_close_price}\")\n",
    "print(f\"Current SPY closing price: ${spy_close_price}\")"
   ]
  },
  {
   "cell_type": "code",
   "execution_count": 54,
   "metadata": {},
   "outputs": [
    {
     "name": "stdout",
     "output_type": "stream",
     "text": [
      "The current value of your 50 SPY shares is $17887.00\n",
      "The current value of your 200 AGG shares is $19080.00\n"
     ]
    }
   ],
   "source": [
    "# Compute the current value of shares\n",
    "my_spy_value = my_spy * spy_close_price\n",
    "my_agg_value = my_agg * agg_close_price\n",
    "\n",
    "# Print current value of shares\n",
    "print(f\"The current value of your {my_spy} SPY shares is ${my_spy_value:0.2f}\")\n",
    "print(f\"The current value of your {my_agg} AGG shares is ${my_agg_value:0.2f}\")"
   ]
  },
  {
   "cell_type": "markdown",
   "metadata": {},
   "source": [
    "### Savings Health Analysis"
   ]
  },
  {
   "cell_type": "code",
   "execution_count": 55,
   "metadata": {},
   "outputs": [
    {
     "data": {
      "text/html": [
       "<div>\n",
       "<style scoped>\n",
       "    .dataframe tbody tr th:only-of-type {\n",
       "        vertical-align: middle;\n",
       "    }\n",
       "\n",
       "    .dataframe tbody tr th {\n",
       "        vertical-align: top;\n",
       "    }\n",
       "\n",
       "    .dataframe thead th {\n",
       "        text-align: right;\n",
       "    }\n",
       "</style>\n",
       "<table border=\"1\" class=\"dataframe\">\n",
       "  <thead>\n",
       "    <tr style=\"text-align: right;\">\n",
       "      <th></th>\n",
       "      <th>amount</th>\n",
       "    </tr>\n",
       "  </thead>\n",
       "  <tbody>\n",
       "    <tr>\n",
       "      <th>crypto</th>\n",
       "      <td>28619.896</td>\n",
       "    </tr>\n",
       "    <tr>\n",
       "      <th>shares</th>\n",
       "      <td>36967.000</td>\n",
       "    </tr>\n",
       "  </tbody>\n",
       "</table>\n",
       "</div>"
      ],
      "text/plain": [
       "           amount\n",
       "crypto  28619.896\n",
       "shares  36967.000"
      ]
     },
     "metadata": {},
     "output_type": "display_data"
    }
   ],
   "source": [
    "# Set monthly household income\n",
    "monthly_income = 12000\n",
    "\n",
    "# Consolidate financial assets data\n",
    "values_data = {\n",
    "    'amount' : [my_btc_value+my_eth_value, my_agg_value+my_spy_value]\n",
    "}\n",
    "tickers_for_df = ['crypto','shares']\n",
    "# Create savings DataFrame\n",
    "df_savings = pd.DataFrame(values_data,index = tickers_for_df)\n",
    "\n",
    "# Display savings DataFrame\n",
    "display(df_savings)"
   ]
  },
  {
   "cell_type": "code",
   "execution_count": 56,
   "metadata": {},
   "outputs": [
    {
     "data": {
      "text/plain": [
       "<AxesSubplot:ylabel='amount'>"
      ]
     },
     "execution_count": 56,
     "metadata": {},
     "output_type": "execute_result"
    },
    {
     "data": {
      "image/png": "[encoded data removed]",
      "text/plain": [
       "<Figure size 432x288 with 1 Axes>"
      ]
     },
     "metadata": {},
     "output_type": "display_data"
    }
   ],
   "source": [
    "# Plot savings pie chart\n",
    "df_savings.plot.pie(y = 'amount')"
   ]
  },
  {
   "cell_type": "code",
   "execution_count": 57,
   "metadata": {},
   "outputs": [
    {
     "name": "stdout",
     "output_type": "stream",
     "text": [
      "Congrats, you have enough money for your emergency fund.\n"
     ]
    }
   ],
   "source": [
    "# Set ideal emergency fund\n",
    "emergency_fund = monthly_income * 3\n",
    "\n",
    "# Calculate total amount of savings\n",
    "total_savings = my_agg_value+my_btc_value+my_eth_value+my_spy_value\n",
    "\n",
    "# Validate saving health\n",
    "if total_savings > emergency_fund:\n",
    "    print(f\"Congrats, you have enough money for your emergency fund.\")\n",
    "elif total_savings == emergency_fund:\n",
    "    print(\"Congrats, you've reached your financial goal.\")\n",
    "else:\n",
    "    print(f\"Sorry, you're ${emergency_fund}-{total_savings} away from your total goal.\")"
   ]
  },
  {
   "cell_type": "markdown",
   "metadata": {},
   "source": [
    "## Part 2 - Retirement Planning\n",
    "\n",
    "### Monte Carlo Simulation"
   ]
  },
  {
   "cell_type": "code",
   "execution_count": 58,
   "metadata": {},
   "outputs": [],
   "source": [
    "# Set start and end dates of five years back from today.\n",
    "# Sample results may vary from the solution based on the time frame chosen\n",
    "start_date = pd.Timestamp('2018-10-12', tz='America/New_York').isoformat()\n",
    "end_date = pd.Timestamp('2022-10-12', tz='America/New_York').isoformat()"
   ]
  },
  {
   "cell_type": "code",
   "execution_count": 59,
   "metadata": {},
   "outputs": [
    {
     "data": {
      "text/html": [
       "<div>\n",
       "<style scoped>\n",
       "    .dataframe tbody tr th:only-of-type {\n",
       "        vertical-align: middle;\n",
       "    }\n",
       "\n",
       "    .dataframe tbody tr th {\n",
       "        vertical-align: top;\n",
       "    }\n",
       "\n",
       "    .dataframe thead tr th {\n",
       "        text-align: left;\n",
       "    }\n",
       "\n",
       "    .dataframe thead tr:last-of-type th {\n",
       "        text-align: right;\n",
       "    }\n",
       "</style>\n",
       "<table border=\"1\" class=\"dataframe\">\n",
       "  <thead>\n",
       "    <tr>\n",
       "      <th></th>\n",
       "      <th colspan=\"7\" halign=\"left\">AGG</th>\n",
       "      <th colspan=\"7\" halign=\"left\">SPY</th>\n",
       "    </tr>\n",
       "    <tr>\n",
       "      <th></th>\n",
       "      <th>open</th>\n",
       "      <th>high</th>\n",
       "      <th>low</th>\n",
       "      <th>close</th>\n",
       "      <th>volume</th>\n",
       "      <th>trade_count</th>\n",
       "      <th>vwap</th>\n",
       "      <th>open</th>\n",
       "      <th>high</th>\n",
       "      <th>low</th>\n",
       "      <th>close</th>\n",
       "      <th>volume</th>\n",
       "      <th>trade_count</th>\n",
       "      <th>vwap</th>\n",
       "    </tr>\n",
       "    <tr>\n",
       "      <th>timestamp</th>\n",
       "      <th></th>\n",
       "      <th></th>\n",
       "      <th></th>\n",
       "      <th></th>\n",
       "      <th></th>\n",
       "      <th></th>\n",
       "      <th></th>\n",
       "      <th></th>\n",
       "      <th></th>\n",
       "      <th></th>\n",
       "      <th></th>\n",
       "      <th></th>\n",
       "      <th></th>\n",
       "      <th></th>\n",
       "    </tr>\n",
       "  </thead>\n",
       "  <tbody>\n",
       "    <tr>\n",
       "      <th>2018-10-12 04:00:00+00:00</th>\n",
       "      <td>104.71</td>\n",
       "      <td>104.8699</td>\n",
       "      <td>104.6750</td>\n",
       "      <td>104.75</td>\n",
       "      <td>5017438</td>\n",
       "      <td>17066</td>\n",
       "      <td>104.765518</td>\n",
       "      <td>276.86</td>\n",
       "      <td>277.09</td>\n",
       "      <td>272.37</td>\n",
       "      <td>275.95</td>\n",
       "      <td>186452035</td>\n",
       "      <td>991520</td>\n",
       "      <td>274.919809</td>\n",
       "    </tr>\n",
       "    <tr>\n",
       "      <th>2018-10-15 04:00:00+00:00</th>\n",
       "      <td>104.73</td>\n",
       "      <td>104.7835</td>\n",
       "      <td>104.6233</td>\n",
       "      <td>104.68</td>\n",
       "      <td>3047999</td>\n",
       "      <td>11516</td>\n",
       "      <td>104.680553</td>\n",
       "      <td>275.54</td>\n",
       "      <td>277.04</td>\n",
       "      <td>274.30</td>\n",
       "      <td>274.40</td>\n",
       "      <td>104132367</td>\n",
       "      <td>543707</td>\n",
       "      <td>275.519667</td>\n",
       "    </tr>\n",
       "    <tr>\n",
       "      <th>2018-10-16 04:00:00+00:00</th>\n",
       "      <td>104.69</td>\n",
       "      <td>104.7400</td>\n",
       "      <td>104.5800</td>\n",
       "      <td>104.74</td>\n",
       "      <td>5750238</td>\n",
       "      <td>17022</td>\n",
       "      <td>104.666607</td>\n",
       "      <td>276.56</td>\n",
       "      <td>280.82</td>\n",
       "      <td>276.07</td>\n",
       "      <td>280.40</td>\n",
       "      <td>119803983</td>\n",
       "      <td>476753</td>\n",
       "      <td>278.542974</td>\n",
       "    </tr>\n",
       "    <tr>\n",
       "      <th>2018-10-17 04:00:00+00:00</th>\n",
       "      <td>104.71</td>\n",
       "      <td>104.7700</td>\n",
       "      <td>104.5200</td>\n",
       "      <td>104.53</td>\n",
       "      <td>2844251</td>\n",
       "      <td>13134</td>\n",
       "      <td>104.644388</td>\n",
       "      <td>280.44</td>\n",
       "      <td>281.15</td>\n",
       "      <td>277.56</td>\n",
       "      <td>280.45</td>\n",
       "      <td>110755987</td>\n",
       "      <td>566702</td>\n",
       "      <td>279.891067</td>\n",
       "    </tr>\n",
       "    <tr>\n",
       "      <th>2018-10-18 04:00:00+00:00</th>\n",
       "      <td>104.39</td>\n",
       "      <td>104.6195</td>\n",
       "      <td>104.3750</td>\n",
       "      <td>104.46</td>\n",
       "      <td>3158160</td>\n",
       "      <td>13494</td>\n",
       "      <td>104.500896</td>\n",
       "      <td>279.41</td>\n",
       "      <td>280.07</td>\n",
       "      <td>274.97</td>\n",
       "      <td>276.40</td>\n",
       "      <td>135603525</td>\n",
       "      <td>747568</td>\n",
       "      <td>277.110785</td>\n",
       "    </tr>\n",
       "  </tbody>\n",
       "</table>\n",
       "</div>"
      ],
      "text/plain": [
       "                              AGG                                       \\\n",
       "                             open      high       low   close   volume   \n",
       "timestamp                                                                \n",
       "2018-10-12 04:00:00+00:00  104.71  104.8699  104.6750  104.75  5017438   \n",
       "2018-10-15 04:00:00+00:00  104.73  104.7835  104.6233  104.68  3047999   \n",
       "2018-10-16 04:00:00+00:00  104.69  104.7400  104.5800  104.74  5750238   \n",
       "2018-10-17 04:00:00+00:00  104.71  104.7700  104.5200  104.53  2844251   \n",
       "2018-10-18 04:00:00+00:00  104.39  104.6195  104.3750  104.46  3158160   \n",
       "\n",
       "                                                      SPY                  \\\n",
       "                          trade_count        vwap    open    high     low   \n",
       "timestamp                                                                   \n",
       "2018-10-12 04:00:00+00:00       17066  104.765518  276.86  277.09  272.37   \n",
       "2018-10-15 04:00:00+00:00       11516  104.680553  275.54  277.04  274.30   \n",
       "2018-10-16 04:00:00+00:00       17022  104.666607  276.56  280.82  276.07   \n",
       "2018-10-17 04:00:00+00:00       13134  104.644388  280.44  281.15  277.56   \n",
       "2018-10-18 04:00:00+00:00       13494  104.500896  279.41  280.07  274.97   \n",
       "\n",
       "                                                                      \n",
       "                            close     volume trade_count        vwap  \n",
       "timestamp                                                             \n",
       "2018-10-12 04:00:00+00:00  275.95  186452035      991520  274.919809  \n",
       "2018-10-15 04:00:00+00:00  274.40  104132367      543707  275.519667  \n",
       "2018-10-16 04:00:00+00:00  280.40  119803983      476753  278.542974  \n",
       "2018-10-17 04:00:00+00:00  280.45  110755987      566702  279.891067  \n",
       "2018-10-18 04:00:00+00:00  276.40  135603525      747568  277.110785  "
      ]
     },
     "execution_count": 59,
     "metadata": {},
     "output_type": "execute_result"
    }
   ],
   "source": [
    "# Get 5 years' worth of historical data for SPY and AGG\n",
    "df_5yr_port = api.get_bars(\n",
    "    tickers,\n",
    "    timeframe,\n",
    "    start = start_date,\n",
    "    end = end_date\n",
    ").df\n",
    "\n",
    "# Reorganize the DataFrame\n",
    "# Separate ticker data\n",
    "AGG_hist = df_5yr_port[df_5yr_port['symbol']== \"AGG\"].drop('symbol', axis = 1)\n",
    "SPY_hist = df_5yr_port[df_5yr_port['symbol']== \"SPY\"].drop('symbol', axis = 1)\n",
    "\n",
    "\n",
    "# Concatenate the ticker DataFrames\n",
    "df_stock_data = pd.concat([AGG_hist,SPY_hist], axis = 1, keys = ['AGG','SPY'])\n",
    "\n",
    "# Display sample data\n",
    "df_stock_data.head()"
   ]
  },
  {
   "cell_type": "code",
   "execution_count": 60,
   "metadata": {},
   "outputs": [],
   "source": [
    "# Configuring a Monte Carlo simulation to forecast 30 years cumulative returns\n",
    "# 60% spy 40% agg\n",
    "MC_dist = MCSimulation(\n",
    "    portfolio_data= df_stock_data,\n",
    "    weights = [.4,.6],\n",
    "    num_simulation= 500,\n",
    "    num_trading_days= 252 * 30\n",
    ")"
   ]
  },
  {
   "cell_type": "code",
   "execution_count": 61,
   "metadata": {},
   "outputs": [
    {
     "data": {
      "text/html": [
       "<div>\n",
       "<style scoped>\n",
       "    .dataframe tbody tr th:only-of-type {\n",
       "        vertical-align: middle;\n",
       "    }\n",
       "\n",
       "    .dataframe tbody tr th {\n",
       "        vertical-align: top;\n",
       "    }\n",
       "\n",
       "    .dataframe thead tr th {\n",
       "        text-align: left;\n",
       "    }\n",
       "\n",
       "    .dataframe thead tr:last-of-type th {\n",
       "        text-align: right;\n",
       "    }\n",
       "</style>\n",
       "<table border=\"1\" class=\"dataframe\">\n",
       "  <thead>\n",
       "    <tr>\n",
       "      <th></th>\n",
       "      <th colspan=\"8\" halign=\"left\">AGG</th>\n",
       "      <th colspan=\"8\" halign=\"left\">SPY</th>\n",
       "    </tr>\n",
       "    <tr>\n",
       "      <th></th>\n",
       "      <th>open</th>\n",
       "      <th>high</th>\n",
       "      <th>low</th>\n",
       "      <th>close</th>\n",
       "      <th>volume</th>\n",
       "      <th>trade_count</th>\n",
       "      <th>vwap</th>\n",
       "      <th>daily_return</th>\n",
       "      <th>open</th>\n",
       "      <th>high</th>\n",
       "      <th>low</th>\n",
       "      <th>close</th>\n",
       "      <th>volume</th>\n",
       "      <th>trade_count</th>\n",
       "      <th>vwap</th>\n",
       "      <th>daily_return</th>\n",
       "    </tr>\n",
       "    <tr>\n",
       "      <th>timestamp</th>\n",
       "      <th></th>\n",
       "      <th></th>\n",
       "      <th></th>\n",
       "      <th></th>\n",
       "      <th></th>\n",
       "      <th></th>\n",
       "      <th></th>\n",
       "      <th></th>\n",
       "      <th></th>\n",
       "      <th></th>\n",
       "      <th></th>\n",
       "      <th></th>\n",
       "      <th></th>\n",
       "      <th></th>\n",
       "      <th></th>\n",
       "      <th></th>\n",
       "    </tr>\n",
       "  </thead>\n",
       "  <tbody>\n",
       "    <tr>\n",
       "      <th>2018-10-12 04:00:00+00:00</th>\n",
       "      <td>104.71</td>\n",
       "      <td>104.8699</td>\n",
       "      <td>104.6750</td>\n",
       "      <td>104.75</td>\n",
       "      <td>5017438</td>\n",
       "      <td>17066</td>\n",
       "      <td>104.765518</td>\n",
       "      <td>NaN</td>\n",
       "      <td>276.86</td>\n",
       "      <td>277.09</td>\n",
       "      <td>272.37</td>\n",
       "      <td>275.95</td>\n",
       "      <td>186452035</td>\n",
       "      <td>991520</td>\n",
       "      <td>274.919809</td>\n",
       "      <td>NaN</td>\n",
       "    </tr>\n",
       "    <tr>\n",
       "      <th>2018-10-15 04:00:00+00:00</th>\n",
       "      <td>104.73</td>\n",
       "      <td>104.7835</td>\n",
       "      <td>104.6233</td>\n",
       "      <td>104.68</td>\n",
       "      <td>3047999</td>\n",
       "      <td>11516</td>\n",
       "      <td>104.680553</td>\n",
       "      <td>-0.000668</td>\n",
       "      <td>275.54</td>\n",
       "      <td>277.04</td>\n",
       "      <td>274.30</td>\n",
       "      <td>274.40</td>\n",
       "      <td>104132367</td>\n",
       "      <td>543707</td>\n",
       "      <td>275.519667</td>\n",
       "      <td>-0.005617</td>\n",
       "    </tr>\n",
       "    <tr>\n",
       "      <th>2018-10-16 04:00:00+00:00</th>\n",
       "      <td>104.69</td>\n",
       "      <td>104.7400</td>\n",
       "      <td>104.5800</td>\n",
       "      <td>104.74</td>\n",
       "      <td>5750238</td>\n",
       "      <td>17022</td>\n",
       "      <td>104.666607</td>\n",
       "      <td>0.000573</td>\n",
       "      <td>276.56</td>\n",
       "      <td>280.82</td>\n",
       "      <td>276.07</td>\n",
       "      <td>280.40</td>\n",
       "      <td>119803983</td>\n",
       "      <td>476753</td>\n",
       "      <td>278.542974</td>\n",
       "      <td>0.021866</td>\n",
       "    </tr>\n",
       "    <tr>\n",
       "      <th>2018-10-17 04:00:00+00:00</th>\n",
       "      <td>104.71</td>\n",
       "      <td>104.7700</td>\n",
       "      <td>104.5200</td>\n",
       "      <td>104.53</td>\n",
       "      <td>2844251</td>\n",
       "      <td>13134</td>\n",
       "      <td>104.644388</td>\n",
       "      <td>-0.002005</td>\n",
       "      <td>280.44</td>\n",
       "      <td>281.15</td>\n",
       "      <td>277.56</td>\n",
       "      <td>280.45</td>\n",
       "      <td>110755987</td>\n",
       "      <td>566702</td>\n",
       "      <td>279.891067</td>\n",
       "      <td>0.000178</td>\n",
       "    </tr>\n",
       "    <tr>\n",
       "      <th>2018-10-18 04:00:00+00:00</th>\n",
       "      <td>104.39</td>\n",
       "      <td>104.6195</td>\n",
       "      <td>104.3750</td>\n",
       "      <td>104.46</td>\n",
       "      <td>3158160</td>\n",
       "      <td>13494</td>\n",
       "      <td>104.500896</td>\n",
       "      <td>-0.000670</td>\n",
       "      <td>279.41</td>\n",
       "      <td>280.07</td>\n",
       "      <td>274.97</td>\n",
       "      <td>276.40</td>\n",
       "      <td>135603525</td>\n",
       "      <td>747568</td>\n",
       "      <td>277.110785</td>\n",
       "      <td>-0.014441</td>\n",
       "    </tr>\n",
       "  </tbody>\n",
       "</table>\n",
       "</div>"
      ],
      "text/plain": [
       "                              AGG                                       \\\n",
       "                             open      high       low   close   volume   \n",
       "timestamp                                                                \n",
       "2018-10-12 04:00:00+00:00  104.71  104.8699  104.6750  104.75  5017438   \n",
       "2018-10-15 04:00:00+00:00  104.73  104.7835  104.6233  104.68  3047999   \n",
       "2018-10-16 04:00:00+00:00  104.69  104.7400  104.5800  104.74  5750238   \n",
       "2018-10-17 04:00:00+00:00  104.71  104.7700  104.5200  104.53  2844251   \n",
       "2018-10-18 04:00:00+00:00  104.39  104.6195  104.3750  104.46  3158160   \n",
       "\n",
       "                                                                   SPY  \\\n",
       "                          trade_count        vwap daily_return    open   \n",
       "timestamp                                                                \n",
       "2018-10-12 04:00:00+00:00       17066  104.765518          NaN  276.86   \n",
       "2018-10-15 04:00:00+00:00       11516  104.680553    -0.000668  275.54   \n",
       "2018-10-16 04:00:00+00:00       17022  104.666607     0.000573  276.56   \n",
       "2018-10-17 04:00:00+00:00       13134  104.644388    -0.002005  280.44   \n",
       "2018-10-18 04:00:00+00:00       13494  104.500896    -0.000670  279.41   \n",
       "\n",
       "                                                                          \\\n",
       "                             high     low   close     volume trade_count   \n",
       "timestamp                                                                  \n",
       "2018-10-12 04:00:00+00:00  277.09  272.37  275.95  186452035      991520   \n",
       "2018-10-15 04:00:00+00:00  277.04  274.30  274.40  104132367      543707   \n",
       "2018-10-16 04:00:00+00:00  280.82  276.07  280.40  119803983      476753   \n",
       "2018-10-17 04:00:00+00:00  281.15  277.56  280.45  110755987      566702   \n",
       "2018-10-18 04:00:00+00:00  280.07  274.97  276.40  135603525      747568   \n",
       "\n",
       "                                                    \n",
       "                                 vwap daily_return  \n",
       "timestamp                                           \n",
       "2018-10-12 04:00:00+00:00  274.919809          NaN  \n",
       "2018-10-15 04:00:00+00:00  275.519667    -0.005617  \n",
       "2018-10-16 04:00:00+00:00  278.542974     0.021866  \n",
       "2018-10-17 04:00:00+00:00  279.891067     0.000178  \n",
       "2018-10-18 04:00:00+00:00  277.110785    -0.014441  "
      ]
     },
     "execution_count": 61,
     "metadata": {},
     "output_type": "execute_result"
    }
   ],
   "source": [
    "# Printing the simulation input data\n",
    "MC_dist.portfolio_data.head()"
   ]
  },
  {
   "cell_type": "code",
   "execution_count": 62,
   "metadata": {},
   "outputs": [
    {
     "name": "stdout",
     "output_type": "stream",
     "text": [
      "Running Monte Carlo simulation number 0.\n",
      "Running Monte Carlo simulation number 10.\n",
      "Running Monte Carlo simulation number 20.\n",
      "Running Monte Carlo simulation number 30.\n",
      "Running Monte Carlo simulation number 40.\n",
      "Running Monte Carlo simulation number 50.\n",
      "Running Monte Carlo simulation number 60.\n",
      "Running Monte Carlo simulation number 70.\n",
      "Running Monte Carlo simulation number 80.\n",
      "Running Monte Carlo simulation number 90.\n",
      "Running Monte Carlo simulation number 100.\n"
     ]
    },
    {
     "name": "stderr",
     "output_type": "stream",
     "text": [
      "c:\\Users\\Justin\\Rutgers\\API Homework\\API-homework\\Instructions\\Starter_Code\\MCForecastTools.py:117: PerformanceWarning: DataFrame is highly fragmented.  This is usually the result of calling `frame.insert` many times, which has poor performance.  Consider joining all columns at once using pd.concat(axis=1) instead.  To get a de-fragmented frame, use `newframe = frame.copy()`\n",
      "  portfolio_cumulative_returns[n] = (1 + sim_df.fillna(0)).cumprod()\n"
     ]
    },
    {
     "name": "stdout",
     "output_type": "stream",
     "text": [
      "Running Monte Carlo simulation number 110.\n",
      "Running Monte Carlo simulation number 120.\n",
      "Running Monte Carlo simulation number 130.\n",
      "Running Monte Carlo simulation number 140.\n",
      "Running Monte Carlo simulation number 150.\n",
      "Running Monte Carlo simulation number 160.\n",
      "Running Monte Carlo simulation number 170.\n",
      "Running Monte Carlo simulation number 180.\n",
      "Running Monte Carlo simulation number 190.\n",
      "Running Monte Carlo simulation number 200.\n",
      "Running Monte Carlo simulation number 210.\n",
      "Running Monte Carlo simulation number 220.\n",
      "Running Monte Carlo simulation number 230.\n",
      "Running Monte Carlo simulation number 240.\n",
      "Running Monte Carlo simulation number 250.\n",
      "Running Monte Carlo simulation number 260.\n",
      "Running Monte Carlo simulation number 270.\n",
      "Running Monte Carlo simulation number 280.\n",
      "Running Monte Carlo simulation number 290.\n",
      "Running Monte Carlo simulation number 300.\n",
      "Running Monte Carlo simulation number 310.\n",
      "Running Monte Carlo simulation number 320.\n",
      "Running Monte Carlo simulation number 330.\n",
      "Running Monte Carlo simulation number 340.\n",
      "Running Monte Carlo simulation number 350.\n",
      "Running Monte Carlo simulation number 360.\n",
      "Running Monte Carlo simulation number 370.\n",
      "Running Monte Carlo simulation number 380.\n",
      "Running Monte Carlo simulation number 390.\n",
      "Running Monte Carlo simulation number 400.\n",
      "Running Monte Carlo simulation number 410.\n",
      "Running Monte Carlo simulation number 420.\n",
      "Running Monte Carlo simulation number 430.\n",
      "Running Monte Carlo simulation number 440.\n",
      "Running Monte Carlo simulation number 450.\n",
      "Running Monte Carlo simulation number 460.\n",
      "Running Monte Carlo simulation number 470.\n",
      "Running Monte Carlo simulation number 480.\n",
      "Running Monte Carlo simulation number 490.\n"
     ]
    },
    {
     "data": {
      "text/html": [
       "<div>\n",
       "<style scoped>\n",
       "    .dataframe tbody tr th:only-of-type {\n",
       "        vertical-align: middle;\n",
       "    }\n",
       "\n",
       "    .dataframe tbody tr th {\n",
       "        vertical-align: top;\n",
       "    }\n",
       "\n",
       "    .dataframe thead th {\n",
       "        text-align: right;\n",
       "    }\n",
       "</style>\n",
       "<table border=\"1\" class=\"dataframe\">\n",
       "  <thead>\n",
       "    <tr style=\"text-align: right;\">\n",
       "      <th></th>\n",
       "      <th>0</th>\n",
       "      <th>1</th>\n",
       "      <th>2</th>\n",
       "      <th>3</th>\n",
       "      <th>4</th>\n",
       "      <th>5</th>\n",
       "      <th>6</th>\n",
       "      <th>7</th>\n",
       "      <th>8</th>\n",
       "      <th>9</th>\n",
       "      <th>...</th>\n",
       "      <th>490</th>\n",
       "      <th>491</th>\n",
       "      <th>492</th>\n",
       "      <th>493</th>\n",
       "      <th>494</th>\n",
       "      <th>495</th>\n",
       "      <th>496</th>\n",
       "      <th>497</th>\n",
       "      <th>498</th>\n",
       "      <th>499</th>\n",
       "    </tr>\n",
       "  </thead>\n",
       "  <tbody>\n",
       "    <tr>\n",
       "      <th>0</th>\n",
       "      <td>1.000000</td>\n",
       "      <td>1.000000</td>\n",
       "      <td>1.000000</td>\n",
       "      <td>1.000000</td>\n",
       "      <td>1.000000</td>\n",
       "      <td>1.000000</td>\n",
       "      <td>1.000000</td>\n",
       "      <td>1.000000</td>\n",
       "      <td>1.000000</td>\n",
       "      <td>1.000000</td>\n",
       "      <td>...</td>\n",
       "      <td>1.000000</td>\n",
       "      <td>1.000000</td>\n",
       "      <td>1.000000</td>\n",
       "      <td>1.000000</td>\n",
       "      <td>1.000000</td>\n",
       "      <td>1.000000</td>\n",
       "      <td>1.000000</td>\n",
       "      <td>1.000000</td>\n",
       "      <td>1.000000</td>\n",
       "      <td>1.000000</td>\n",
       "    </tr>\n",
       "    <tr>\n",
       "      <th>1</th>\n",
       "      <td>1.010224</td>\n",
       "      <td>0.992471</td>\n",
       "      <td>0.990954</td>\n",
       "      <td>0.999366</td>\n",
       "      <td>1.009701</td>\n",
       "      <td>0.985951</td>\n",
       "      <td>0.992805</td>\n",
       "      <td>0.996263</td>\n",
       "      <td>1.013531</td>\n",
       "      <td>0.999521</td>\n",
       "      <td>...</td>\n",
       "      <td>0.996728</td>\n",
       "      <td>0.994969</td>\n",
       "      <td>1.007171</td>\n",
       "      <td>0.999294</td>\n",
       "      <td>0.996101</td>\n",
       "      <td>1.018833</td>\n",
       "      <td>0.986500</td>\n",
       "      <td>1.004422</td>\n",
       "      <td>1.005908</td>\n",
       "      <td>0.994765</td>\n",
       "    </tr>\n",
       "    <tr>\n",
       "      <th>2</th>\n",
       "      <td>1.008513</td>\n",
       "      <td>1.007358</td>\n",
       "      <td>0.979043</td>\n",
       "      <td>0.994494</td>\n",
       "      <td>1.018827</td>\n",
       "      <td>0.980111</td>\n",
       "      <td>0.986420</td>\n",
       "      <td>0.986410</td>\n",
       "      <td>1.010349</td>\n",
       "      <td>1.021589</td>\n",
       "      <td>...</td>\n",
       "      <td>0.993572</td>\n",
       "      <td>0.980809</td>\n",
       "      <td>1.005386</td>\n",
       "      <td>0.992249</td>\n",
       "      <td>0.999932</td>\n",
       "      <td>1.035086</td>\n",
       "      <td>0.974152</td>\n",
       "      <td>1.001987</td>\n",
       "      <td>1.024172</td>\n",
       "      <td>1.001780</td>\n",
       "    </tr>\n",
       "    <tr>\n",
       "      <th>3</th>\n",
       "      <td>1.015459</td>\n",
       "      <td>1.008222</td>\n",
       "      <td>0.974752</td>\n",
       "      <td>0.977609</td>\n",
       "      <td>1.008080</td>\n",
       "      <td>0.992781</td>\n",
       "      <td>0.983146</td>\n",
       "      <td>0.979677</td>\n",
       "      <td>1.006457</td>\n",
       "      <td>1.031162</td>\n",
       "      <td>...</td>\n",
       "      <td>0.991370</td>\n",
       "      <td>0.988822</td>\n",
       "      <td>0.992451</td>\n",
       "      <td>0.990037</td>\n",
       "      <td>1.013639</td>\n",
       "      <td>1.022659</td>\n",
       "      <td>0.974980</td>\n",
       "      <td>1.011236</td>\n",
       "      <td>1.022267</td>\n",
       "      <td>0.999869</td>\n",
       "    </tr>\n",
       "    <tr>\n",
       "      <th>4</th>\n",
       "      <td>1.012367</td>\n",
       "      <td>1.013593</td>\n",
       "      <td>0.955749</td>\n",
       "      <td>0.993315</td>\n",
       "      <td>1.013909</td>\n",
       "      <td>0.985739</td>\n",
       "      <td>0.983724</td>\n",
       "      <td>0.969041</td>\n",
       "      <td>1.014325</td>\n",
       "      <td>1.007427</td>\n",
       "      <td>...</td>\n",
       "      <td>0.993808</td>\n",
       "      <td>0.979527</td>\n",
       "      <td>0.999492</td>\n",
       "      <td>0.999049</td>\n",
       "      <td>1.009783</td>\n",
       "      <td>1.017478</td>\n",
       "      <td>0.973548</td>\n",
       "      <td>1.024785</td>\n",
       "      <td>1.021748</td>\n",
       "      <td>0.993818</td>\n",
       "    </tr>\n",
       "    <tr>\n",
       "      <th>...</th>\n",
       "      <td>...</td>\n",
       "      <td>...</td>\n",
       "      <td>...</td>\n",
       "      <td>...</td>\n",
       "      <td>...</td>\n",
       "      <td>...</td>\n",
       "      <td>...</td>\n",
       "      <td>...</td>\n",
       "      <td>...</td>\n",
       "      <td>...</td>\n",
       "      <td>...</td>\n",
       "      <td>...</td>\n",
       "      <td>...</td>\n",
       "      <td>...</td>\n",
       "      <td>...</td>\n",
       "      <td>...</td>\n",
       "      <td>...</td>\n",
       "      <td>...</td>\n",
       "      <td>...</td>\n",
       "      <td>...</td>\n",
       "      <td>...</td>\n",
       "    </tr>\n",
       "    <tr>\n",
       "      <th>7556</th>\n",
       "      <td>0.977810</td>\n",
       "      <td>2.128054</td>\n",
       "      <td>10.132764</td>\n",
       "      <td>2.835541</td>\n",
       "      <td>6.498238</td>\n",
       "      <td>3.051263</td>\n",
       "      <td>1.654569</td>\n",
       "      <td>2.134781</td>\n",
       "      <td>11.684739</td>\n",
       "      <td>3.093940</td>\n",
       "      <td>...</td>\n",
       "      <td>3.293800</td>\n",
       "      <td>7.741999</td>\n",
       "      <td>1.602910</td>\n",
       "      <td>4.431649</td>\n",
       "      <td>2.905484</td>\n",
       "      <td>4.892558</td>\n",
       "      <td>6.081609</td>\n",
       "      <td>1.055773</td>\n",
       "      <td>7.697233</td>\n",
       "      <td>6.216439</td>\n",
       "    </tr>\n",
       "    <tr>\n",
       "      <th>7557</th>\n",
       "      <td>0.983060</td>\n",
       "      <td>2.115695</td>\n",
       "      <td>10.074242</td>\n",
       "      <td>2.849145</td>\n",
       "      <td>6.500249</td>\n",
       "      <td>3.022123</td>\n",
       "      <td>1.673967</td>\n",
       "      <td>2.148046</td>\n",
       "      <td>11.887018</td>\n",
       "      <td>3.081367</td>\n",
       "      <td>...</td>\n",
       "      <td>3.325571</td>\n",
       "      <td>7.708908</td>\n",
       "      <td>1.602218</td>\n",
       "      <td>4.491017</td>\n",
       "      <td>2.874313</td>\n",
       "      <td>4.874407</td>\n",
       "      <td>6.002641</td>\n",
       "      <td>1.073286</td>\n",
       "      <td>7.671748</td>\n",
       "      <td>6.191269</td>\n",
       "    </tr>\n",
       "    <tr>\n",
       "      <th>7558</th>\n",
       "      <td>0.992993</td>\n",
       "      <td>2.106107</td>\n",
       "      <td>10.115368</td>\n",
       "      <td>2.899691</td>\n",
       "      <td>6.572893</td>\n",
       "      <td>3.053052</td>\n",
       "      <td>1.682515</td>\n",
       "      <td>2.169800</td>\n",
       "      <td>11.851755</td>\n",
       "      <td>3.072155</td>\n",
       "      <td>...</td>\n",
       "      <td>3.299568</td>\n",
       "      <td>7.758093</td>\n",
       "      <td>1.614195</td>\n",
       "      <td>4.464303</td>\n",
       "      <td>2.892755</td>\n",
       "      <td>4.878186</td>\n",
       "      <td>5.919676</td>\n",
       "      <td>1.071476</td>\n",
       "      <td>7.594493</td>\n",
       "      <td>6.111803</td>\n",
       "    </tr>\n",
       "    <tr>\n",
       "      <th>7559</th>\n",
       "      <td>1.002124</td>\n",
       "      <td>2.118251</td>\n",
       "      <td>10.132232</td>\n",
       "      <td>2.886390</td>\n",
       "      <td>6.576569</td>\n",
       "      <td>3.095579</td>\n",
       "      <td>1.700677</td>\n",
       "      <td>2.175289</td>\n",
       "      <td>12.003694</td>\n",
       "      <td>3.062709</td>\n",
       "      <td>...</td>\n",
       "      <td>3.282473</td>\n",
       "      <td>7.689640</td>\n",
       "      <td>1.638136</td>\n",
       "      <td>4.437136</td>\n",
       "      <td>2.920619</td>\n",
       "      <td>4.885470</td>\n",
       "      <td>5.896549</td>\n",
       "      <td>1.065235</td>\n",
       "      <td>7.585174</td>\n",
       "      <td>6.047229</td>\n",
       "    </tr>\n",
       "    <tr>\n",
       "      <th>7560</th>\n",
       "      <td>1.002745</td>\n",
       "      <td>2.158763</td>\n",
       "      <td>10.280334</td>\n",
       "      <td>2.860918</td>\n",
       "      <td>6.694238</td>\n",
       "      <td>3.093511</td>\n",
       "      <td>1.722446</td>\n",
       "      <td>2.174280</td>\n",
       "      <td>12.128148</td>\n",
       "      <td>3.089441</td>\n",
       "      <td>...</td>\n",
       "      <td>3.270305</td>\n",
       "      <td>7.636253</td>\n",
       "      <td>1.640295</td>\n",
       "      <td>4.344461</td>\n",
       "      <td>2.909802</td>\n",
       "      <td>4.895008</td>\n",
       "      <td>5.841723</td>\n",
       "      <td>1.079015</td>\n",
       "      <td>7.515548</td>\n",
       "      <td>6.042468</td>\n",
       "    </tr>\n",
       "  </tbody>\n",
       "</table>\n",
       "<p>7561 rows × 500 columns</p>\n",
       "</div>"
      ],
      "text/plain": [
       "           0         1          2         3         4         5         6    \\\n",
       "0     1.000000  1.000000   1.000000  1.000000  1.000000  1.000000  1.000000   \n",
       "1     1.010224  0.992471   0.990954  0.999366  1.009701  0.985951  0.992805   \n",
       "2     1.008513  1.007358   0.979043  0.994494  1.018827  0.980111  0.986420   \n",
       "3     1.015459  1.008222   0.974752  0.977609  1.008080  0.992781  0.983146   \n",
       "4     1.012367  1.013593   0.955749  0.993315  1.013909  0.985739  0.983724   \n",
       "...        ...       ...        ...       ...       ...       ...       ...   \n",
       "7556  0.977810  2.128054  10.132764  2.835541  6.498238  3.051263  1.654569   \n",
       "7557  0.983060  2.115695  10.074242  2.849145  6.500249  3.022123  1.673967   \n",
       "7558  0.992993  2.106107  10.115368  2.899691  6.572893  3.053052  1.682515   \n",
       "7559  1.002124  2.118251  10.132232  2.886390  6.576569  3.095579  1.700677   \n",
       "7560  1.002745  2.158763  10.280334  2.860918  6.694238  3.093511  1.722446   \n",
       "\n",
       "           7          8         9    ...       490       491       492  \\\n",
       "0     1.000000   1.000000  1.000000  ...  1.000000  1.000000  1.000000   \n",
       "1     0.996263   1.013531  0.999521  ...  0.996728  0.994969  1.007171   \n",
       "2     0.986410   1.010349  1.021589  ...  0.993572  0.980809  1.005386   \n",
       "3     0.979677   1.006457  1.031162  ...  0.991370  0.988822  0.992451   \n",
       "4     0.969041   1.014325  1.007427  ...  0.993808  0.979527  0.999492   \n",
       "...        ...        ...       ...  ...       ...       ...       ...   \n",
       "7556  2.134781  11.684739  3.093940  ...  3.293800  7.741999  1.602910   \n",
       "7557  2.148046  11.887018  3.081367  ...  3.325571  7.708908  1.602218   \n",
       "7558  2.169800  11.851755  3.072155  ...  3.299568  7.758093  1.614195   \n",
       "7559  2.175289  12.003694  3.062709  ...  3.282473  7.689640  1.638136   \n",
       "7560  2.174280  12.128148  3.089441  ...  3.270305  7.636253  1.640295   \n",
       "\n",
       "           493       494       495       496       497       498       499  \n",
       "0     1.000000  1.000000  1.000000  1.000000  1.000000  1.000000  1.000000  \n",
       "1     0.999294  0.996101  1.018833  0.986500  1.004422  1.005908  0.994765  \n",
       "2     0.992249  0.999932  1.035086  0.974152  1.001987  1.024172  1.001780  \n",
       "3     0.990037  1.013639  1.022659  0.974980  1.011236  1.022267  0.999869  \n",
       "4     0.999049  1.009783  1.017478  0.973548  1.024785  1.021748  0.993818  \n",
       "...        ...       ...       ...       ...       ...       ...       ...  \n",
       "7556  4.431649  2.905484  4.892558  6.081609  1.055773  7.697233  6.216439  \n",
       "7557  4.491017  2.874313  4.874407  6.002641  1.073286  7.671748  6.191269  \n",
       "7558  4.464303  2.892755  4.878186  5.919676  1.071476  7.594493  6.111803  \n",
       "7559  4.437136  2.920619  4.885470  5.896549  1.065235  7.585174  6.047229  \n",
       "7560  4.344461  2.909802  4.895008  5.841723  1.079015  7.515548  6.042468  \n",
       "\n",
       "[7561 rows x 500 columns]"
      ]
     },
     "execution_count": 62,
     "metadata": {},
     "output_type": "execute_result"
    }
   ],
   "source": [
    "# Running a Monte Carlo simulation to forecast 30 years cumulative returns\n",
    "MC_dist.calc_cumulative_return()"
   ]
  },
  {
   "cell_type": "code",
   "execution_count": 63,
   "metadata": {},
   "outputs": [
    {
     "data": {
      "text/plain": [
       "<AxesSubplot:title={'center':'500 Simulations of Cumulative Portfolio Return Trajectories Over the Next 7560 Trading Days.'}>"
      ]
     },
     "execution_count": 63,
     "metadata": {},
     "output_type": "execute_result"
    },
    {
     "data": {
      "image/png": "[encoded data removed]",
      "text/plain": [
       "<Figure size 432x288 with 1 Axes>"
      ]
     },
     "metadata": {
      "needs_background": "light"
     },
     "output_type": "display_data"
    }
   ],
   "source": [
    "# Plot simulation outcomes\n",
    "MC_dist.plot_simulation()"
   ]
  },
  {
   "cell_type": "code",
   "execution_count": 64,
   "metadata": {},
   "outputs": [
    {
     "data": {
      "text/plain": [
       "<AxesSubplot:title={'center':'Distribution of Final Cumuluative Returns Across All 500 Simulations'}, ylabel='Frequency'>"
      ]
     },
     "execution_count": 64,
     "metadata": {},
     "output_type": "execute_result"
    },
    {
     "data": {
      "image/png": "[encoded data removed]",
      "text/plain": [
       "<Figure size 432x288 with 1 Axes>"
      ]
     },
     "metadata": {
      "needs_background": "light"
     },
     "output_type": "display_data"
    }
   ],
   "source": [
    "# Plot probability distribution and confidence intervals\n",
    "MC_dist.plot_distribution()"
   ]
  },
  {
   "cell_type": "markdown",
   "metadata": {},
   "source": [
    "### Retirement Analysis"
   ]
  },
  {
   "cell_type": "code",
   "execution_count": 65,
   "metadata": {},
   "outputs": [
    {
     "data": {
      "text/plain": [
       "count           500.000000\n",
       "mean              3.747815\n",
       "std               3.231072\n",
       "min               0.392827\n",
       "25%               1.747802\n",
       "50%               2.875947\n",
       "75%               4.735862\n",
       "max              36.548445\n",
       "95% CI Lower      0.728642\n",
       "95% CI Upper     11.749558\n",
       "Name: 7560, dtype: float64"
      ]
     },
     "execution_count": 65,
     "metadata": {},
     "output_type": "execute_result"
    }
   ],
   "source": [
    "# Fetch summary statistics from the Monte Carlo simulation results\n",
    "summary_stats = MC_dist.summarize_cumulative_return()\n",
    "\n",
    "# Print summary statistics\n",
    "summary_stats"
   ]
  },
  {
   "cell_type": "markdown",
   "metadata": {},
   "source": [
    "### Calculate the expected portfolio return at the `95%` lower and upper confidence intervals based on a `$20,000` initial investment."
   ]
  },
  {
   "cell_type": "code",
   "execution_count": 66,
   "metadata": {},
   "outputs": [
    {
     "name": "stdout",
     "output_type": "stream",
     "text": [
      "There is a 95% chance that an initial investment of $20000 in the portfolio over the next 30 years will end within in the range of $14572.83 and $234991.16\n"
     ]
    }
   ],
   "source": [
    "# Set initial investment\n",
    "initial_investment = 20000\n",
    "\n",
    "# Use the lower and upper `95%` confidence intervals to calculate the range of the possible outcomes of our $20,000\n",
    "ci_lower = round((summary_stats[8] * initial_investment),2)\n",
    "ci_upper = round((summary_stats[9] * initial_investment),2)\n",
    "# Print results\n",
    "print(f\"There is a 95% chance that an initial investment of ${initial_investment} in the portfolio\"\n",
    "      f\" over the next 30 years will end within in the range of\"\n",
    "      f\" ${ci_lower} and ${ci_upper}\")"
   ]
  },
  {
   "cell_type": "markdown",
   "metadata": {},
   "source": [
    "### Calculate the expected portfolio return at the `95%` lower and upper confidence intervals based on a `50%` increase in the initial investment."
   ]
  },
  {
   "cell_type": "code",
   "execution_count": 74,
   "metadata": {},
   "outputs": [
    {
     "name": "stdout",
     "output_type": "stream",
     "text": [
      "There is a 95% chance that an initial investment of $30000.0 in the portfolio over the next 30 years will end within in the range of $21859.25 and $352486.74\n"
     ]
    }
   ],
   "source": [
    "# Set initial investment\n",
    "initial_investment = 20000 * 1.5\n",
    "\n",
    "# Use the lower and upper `95%` confidence intervals to calculate the range of the possible outcomes of our $30,000\n",
    "ci_lower = round((summary_stats[8] * initial_investment),2)\n",
    "ci_upper = round((summary_stats[9] * initial_investment),2)\n",
    "\n",
    "# Print results\n",
    "print(f\"There is a 95% chance that an initial investment of ${initial_investment} in the portfolio\"\n",
    "      f\" over the next 30 years will end within in the range of\"\n",
    "      f\" ${ci_lower} and ${ci_upper}\")"
   ]
  },
  {
   "cell_type": "markdown",
   "metadata": {},
   "source": [
    "## Optional Challenge - Early Retirement\n",
    "\n",
    "\n",
    "### Five Years Retirement Option"
   ]
  },
  {
   "cell_type": "code",
   "execution_count": 68,
   "metadata": {},
   "outputs": [],
   "source": [
    "# Configuring a Monte Carlo simulation to forecast 5 years cumulative returns\n",
    "# YOUR CODE HERE!"
   ]
  },
  {
   "cell_type": "code",
   "execution_count": 69,
   "metadata": {},
   "outputs": [],
   "source": [
    "# Running a Monte Carlo simulation to forecast 5 years cumulative returns\n",
    "# YOUR CODE HERE!"
   ]
  },
  {
   "cell_type": "code",
   "execution_count": 70,
   "metadata": {},
   "outputs": [],
   "source": [
    "# Plot simulation outcomes\n",
    "# YOUR CODE HERE!"
   ]
  },
  {
   "cell_type": "code",
   "execution_count": 71,
   "metadata": {},
   "outputs": [],
   "source": [
    "# Plot probability distribution and confidence intervals\n",
    "# YOUR CODE HERE!"
   ]
  },
  {
   "cell_type": "code",
   "execution_count": 72,
   "metadata": {},
   "outputs": [],
   "source": [
    "# Fetch summary statistics from the Monte Carlo simulation results\n",
    "# YOUR CODE HERE!\n",
    "\n",
    "# Print summary statistics\n",
    "# YOUR CODE HERE!"
   ]
  },
  {
   "cell_type": "code",
   "execution_count": 73,
   "metadata": {},
   "outputs": [
    {
     "ename": "NameError",
     "evalue": "name 'ci_lower_five' is not defined",
     "output_type": "error",
     "traceback": [
      "\u001b[1;31m---------------------------------------------------------------------------\u001b[0m",
      "\u001b[1;31mNameError\u001b[0m                                 Traceback (most recent call last)",
      "\u001b[1;32m~\\AppData\\Local\\Temp\\ipykernel_17496\\2498605119.py\u001b[0m in \u001b[0;36m<module>\u001b[1;34m\u001b[0m\n\u001b[0;32m      6\u001b[0m \u001b[1;33m\u001b[0m\u001b[0m\n\u001b[0;32m      7\u001b[0m \u001b[1;31m# Print results\u001b[0m\u001b[1;33m\u001b[0m\u001b[1;33m\u001b[0m\u001b[1;33m\u001b[0m\u001b[0m\n\u001b[1;32m----> 8\u001b[1;33m print(f\"There is a 95% chance that an initial investment of ${initial_investment} in the portfolio\"\n\u001b[0m\u001b[0;32m      9\u001b[0m       \u001b[1;34mf\" over the next 5 years will end within in the range of\"\u001b[0m\u001b[1;33m\u001b[0m\u001b[1;33m\u001b[0m\u001b[0m\n\u001b[0;32m     10\u001b[0m       f\" ${ci_lower_five} and ${ci_upper_five}\")\n",
      "\u001b[1;31mNameError\u001b[0m: name 'ci_lower_five' is not defined"
     ]
    }
   ],
   "source": [
    "# Set initial investment\n",
    "# YOUR CODE HERE!\n",
    "\n",
    "# Use the lower and upper `95%` confidence intervals to calculate the range of the possible outcomes of our $60,000\n",
    "# YOUR CODE HERE!\n",
    "\n",
    "# Print results\n",
    "print(f\"There is a 95% chance that an initial investment of ${initial_investment} in the portfolio\"\n",
    "      f\" over the next 5 years will end within in the range of\"\n",
    "      f\" ${ci_lower_five} and ${ci_upper_five}\")"
   ]
  },
  {
   "cell_type": "markdown",
   "metadata": {},
   "source": [
    "### Ten Years Retirement Option"
   ]
  },
  {
   "cell_type": "code",
   "execution_count": null,
   "metadata": {},
   "outputs": [],
   "source": [
    "# Configuring a Monte Carlo simulation to forecast 10 years cumulative returns\n",
    "# YOUR CODE HERE!"
   ]
  },
  {
   "cell_type": "code",
   "execution_count": null,
   "metadata": {},
   "outputs": [],
   "source": [
    "# Running a Monte Carlo simulation to forecast 10 years cumulative returns\n",
    "# YOUR CODE HERE!"
   ]
  },
  {
   "cell_type": "code",
   "execution_count": null,
   "metadata": {},
   "outputs": [],
   "source": [
    "# Plot simulation outcomes\n",
    "# YOUR CODE HERE!"
   ]
  },
  {
   "cell_type": "code",
   "execution_count": null,
   "metadata": {},
   "outputs": [],
   "source": [
    "# Plot probability distribution and confidence intervals\n",
    "# YOUR CODE HERE!"
   ]
  },
  {
   "cell_type": "code",
   "execution_count": null,
   "metadata": {},
   "outputs": [],
   "source": [
    "# Fetch summary statistics from the Monte Carlo simulation results\n",
    "# YOUR CODE HERE!\n",
    "\n",
    "# Print summary statistics\n",
    "# YOUR CODE HERE!"
   ]
  },
  {
   "cell_type": "code",
   "execution_count": null,
   "metadata": {},
   "outputs": [],
   "source": [
    "# Set initial investment\n",
    "# YOUR CODE HERE!\n",
    "\n",
    "# Use the lower and upper `95%` confidence intervals to calculate the range of the possible outcomes of our $60,000\n",
    "# YOUR CODE HERE!\n",
    "\n",
    "# Print results\n",
    "print(f\"There is a 95% chance that an initial investment of ${initial_investment} in the portfolio\"\n",
    "      f\" over the next 10 years will end within in the range of\"\n",
    "      f\" ${ci_lower_ten} and ${ci_upper_ten}\")"
   ]
  },
  {
   "cell_type": "code",
   "execution_count": null,
   "metadata": {},
   "outputs": [],
   "source": []
  }
 ],
 "metadata": {
  "kernelspec": {
   "display_name": "Python 3.7.13 ('dev')",
   "language": "python",
   "name": "python3"
  },
  "language_info": {
   "codemirror_mode": {
    "name": "ipython",
    "version": 3
   },
   "file_extension": ".py",
   "mimetype": "text/x-python",
   "name": "python",
   "nbconvert_exporter": "python",
   "pygments_lexer": "ipython3",
   "version": "3.7.13"
  },
  "nteract": {
   "version": "0.28.0"
  },
  "vscode": {
   "interpreter": {
    "hash": "b690e6882326b5178da96a43489ad4a3a410df96195acf222b6fc0fcea8e80e0"
   }
  }
 },
 "nbformat": 4,
 "nbformat_minor": 4
}
